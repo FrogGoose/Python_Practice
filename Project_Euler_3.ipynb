{
 "cells": [
  {
   "cell_type": "code",
   "execution_count": null,
   "metadata": {},
   "outputs": [],
   "source": [
    "Largest prime factor  Problem 3 \n",
    "\n",
    "The prime factors of 13195 are 5, 7, 13 and 29.\n",
    "What is the largest prime factor of the number 600851475143 ?"
   ]
  },
  {
   "cell_type": "code",
   "execution_count": 33,
   "metadata": {},
   "outputs": [],
   "source": [
    "def prinum(num):\n",
    "    if num > 1:\n",
    "        for i in range(2,num):\n",
    "            if (num % i) == 0:\n",
    "                print(num, \"is not a prime number\")\n",
    "                print(i, \"times\", round(num/i), \"is\", num)\n",
    "                return(False)\n",
    "                break\n",
    "        else:\n",
    "            print(num, \"is a prime number\")\n",
    "            return(True)\n",
    "    else:\n",
    "        print(num,\"is not a prime number\")\n",
    "        return(False)"
   ]
  },
  {
   "cell_type": "code",
   "execution_count": 34,
   "metadata": {},
   "outputs": [
    {
     "name": "stdout",
     "output_type": "stream",
     "text": [
      "4 is not a prime number\n",
      "2 times 2 is 4\n"
     ]
    },
    {
     "data": {
      "text/plain": [
       "False"
      ]
     },
     "execution_count": 34,
     "metadata": {},
     "output_type": "execute_result"
    }
   ],
   "source": [
    "num = 4\n",
    "prinum(num)"
   ]
  },
  {
   "cell_type": "code",
   "execution_count": 35,
   "metadata": {},
   "outputs": [],
   "source": [
    "def Largest_Prime_Factor(num):\n",
    "    if num > 2:\n",
    "        for i in range(1,num+1):\n",
    "            if num % i == 0:\n",
    "                if prinum(round(num/i)) == True:\n",
    "                    print(num/i)\n",
    "                    return(num/i)\n",
    "                    break"
   ]
  },
  {
   "cell_type": "code",
   "execution_count": 36,
   "metadata": {},
   "outputs": [
    {
     "name": "stdout",
     "output_type": "stream",
     "text": [
      "13195 is not a prime number\n",
      "5 times 2639 is 13195\n",
      "2639 is not a prime number\n",
      "7 times 377 is 2639\n",
      "1885 is not a prime number\n",
      "5 times 377 is 1885\n",
      "1015 is not a prime number\n",
      "5 times 203 is 1015\n",
      "455 is not a prime number\n",
      "5 times 91 is 455\n",
      "377 is not a prime number\n",
      "13 times 29 is 377\n",
      "203 is not a prime number\n",
      "7 times 29 is 203\n",
      "145 is not a prime number\n",
      "5 times 29 is 145\n",
      "91 is not a prime number\n",
      "7 times 13 is 91\n",
      "65 is not a prime number\n",
      "5 times 13 is 65\n",
      "35 is not a prime number\n",
      "5 times 7 is 35\n",
      "29 is a prime number\n",
      "29.0\n"
     ]
    },
    {
     "data": {
      "text/plain": [
       "29.0"
      ]
     },
     "execution_count": 36,
     "metadata": {},
     "output_type": "execute_result"
    }
   ],
   "source": [
    "num = 13195\n",
    "Largest_Prime_Factor(num)"
   ]
  },
  {
   "cell_type": "code",
   "execution_count": 37,
   "metadata": {},
   "outputs": [
    {
     "name": "stdout",
     "output_type": "stream",
     "text": [
      "600851475143 is not a prime number\n",
      "71 times 8462696833 is 600851475143\n",
      "8462696833 is not a prime number\n",
      "839 times 10086647 is 8462696833\n",
      "716151937 is not a prime number\n",
      "71 times 10086647 is 716151937\n",
      "408464633 is not a prime number\n",
      "71 times 5753023 is 408464633\n",
      "87625999 is not a prime number\n",
      "71 times 1234169 is 87625999\n",
      "10086647 is not a prime number\n",
      "1471 times 6857 is 10086647\n",
      "5753023 is not a prime number\n",
      "839 times 6857 is 5753023\n",
      "1234169 is not a prime number\n",
      "839 times 1471 is 1234169\n",
      "486847 is not a prime number\n",
      "71 times 6857 is 486847\n",
      "104441 is not a prime number\n",
      "71 times 1471 is 104441\n",
      "59569 is not a prime number\n",
      "71 times 839 is 59569\n",
      "6857 is a prime number\n",
      "6857.0\n"
     ]
    },
    {
     "data": {
      "text/plain": [
       "6857.0"
      ]
     },
     "execution_count": 37,
     "metadata": {},
     "output_type": "execute_result"
    }
   ],
   "source": [
    "num = 600851475143\n",
    "Largest_Prime_Factor(num)"
   ]
  }
 ],
 "metadata": {
  "kernelspec": {
   "display_name": "Python 3",
   "language": "python",
   "name": "python3"
  },
  "language_info": {
   "codemirror_mode": {
    "name": "ipython",
    "version": 3
   },
   "file_extension": ".py",
   "mimetype": "text/x-python",
   "name": "python",
   "nbconvert_exporter": "python",
   "pygments_lexer": "ipython3",
   "version": "3.6.4"
  }
 },
 "nbformat": 4,
 "nbformat_minor": 2
}
