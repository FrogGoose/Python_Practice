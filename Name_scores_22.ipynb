{
 "cells": [
  {
   "cell_type": "code",
   "execution_count": null,
   "metadata": {},
   "outputs": [],
   "source": [
    "Names scores   Problem 22\n",
    "\n",
    "Using names.txt (right click and 'Save Link/Target As...'), a 46K text file containing over five-thousand first names, begin by sorting it into alphabetical order. Then working out the alphabetical value for each name, multiply this value by its alphabetical position in the list to obtain a name score.\n",
    "For example, when the list is sorted into alphabetical order, COLIN, which is worth 3 + 15 + 12 + 9 + 14 = 53, is the 938th name in the list. So, COLIN would obtain a score of 938 × 53 = 49714.\n",
    "What is the total of all the name scores in the file?"
   ]
  },
  {
   "cell_type": "code",
   "execution_count": 67,
   "metadata": {},
   "outputs": [],
   "source": [
    "# read data\n",
    "import win32clipboard\n",
    "import numpy as np\n",
    "win32clipboard.OpenClipboard()\n",
    "data = win32clipboard.GetClipboardData()\n",
    "win32clipboard.CloseClipboard()\n",
    "#newdata = data.replace(\"\\r\\n\",\" \")\n",
    "#newdata = data.replace(\" \",\"  \")\n",
    "names = data.split(\",\")\n",
    "names.sort()"
   ]
  },
  {
   "cell_type": "code",
   "execution_count": 68,
   "metadata": {},
   "outputs": [],
   "source": [
    "def sums_str(a):\n",
    "    total = a.count('A')*1 + a.count('B')*2 + a.count('C')*3 + a.count('D')*4 + a.count('E')*5 + a.count('F')*6 + a.count('G')*7 + a.count('H')*8 + a.count('I')*9 + a.count('J')*10 + a.count('K')*11 + a.count('L')*12 + a.count('M')*13 + a.count('N')*14 + a.count('O')*15 + a.count('P')*16 + a.count('Q')*17 + a.count('R')*18 + a.count('S')*19 + a.count('T')*20 + a.count('U')*21 + a.count('V')*22 + a.count('W')*23 + a.count('X')*24 + a.count('Y')*25 +a.count(\"Z\")*26\n",
    "    return (total)"
   ]
  },
  {
   "cell_type": "code",
   "execution_count": 81,
   "metadata": {},
   "outputs": [
    {
     "name": "stdout",
     "output_type": "stream",
     "text": [
      "871198282\n",
      "0.06600332260131836\n"
     ]
    }
   ],
   "source": [
    "import time\n",
    "start = time.time()\n",
    "total = 0\n",
    "n = len(names)\n",
    "for i in range(n):\n",
    "    total += (i+1) * sums_str(names[i])\n",
    "print(total)\n",
    "print (time.time()-start)"
   ]
  }
 ],
 "metadata": {
  "kernelspec": {
   "display_name": "Python 3",
   "language": "python",
   "name": "python3"
  },
  "language_info": {
   "codemirror_mode": {
    "name": "ipython",
    "version": 3
   },
   "file_extension": ".py",
   "mimetype": "text/x-python",
   "name": "python",
   "nbconvert_exporter": "python",
   "pygments_lexer": "ipython3",
   "version": "3.6.4"
  }
 },
 "nbformat": 4,
 "nbformat_minor": 2
}
