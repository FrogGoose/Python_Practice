{
 "cells": [
  {
   "cell_type": "code",
   "execution_count": null,
   "metadata": {},
   "outputs": [],
   "source": [
    "Lattice paths    Problem 15 \n",
    "\n",
    "Starting in the top left corner of a 2×2 grid, and only being able to move to the right and down, there are exactly 6 routes to the bottom right corner.\n",
    "How many such routes are there through a 20×20 grid?"
   ]
  },
  {
   "cell_type": "code",
   "execution_count": 6,
   "metadata": {},
   "outputs": [],
   "source": [
    "# two simple recursive examples\n",
    "def factorial(num):\n",
    "    if num == 1 or num == 0:\n",
    "        return (1)\n",
    "    prod = num * factorial(num-1)\n",
    "    return (prod)\n",
    "\n",
    "import numpy as np\n",
    "def Collatz_sequence(num):\n",
    "    if num == 1: \n",
    "        return (1)\n",
    "    seq = np.empty(0)\n",
    "    if num % 2 == 0:\n",
    "        seq = np.append(seq,num/2)\n",
    "    else:\n",
    "        seq = np.append(seq,3*num+1)\n",
    "    if seq[-1] != 1:\n",
    "        seq = np.append(seq,Collatz_sequence(seq[-1]))\n",
    "    return(seq)"
   ]
  },
  {
   "cell_type": "code",
   "execution_count": 7,
   "metadata": {},
   "outputs": [],
   "source": [
    "# recursive way\n",
    "def num_ways(grid):\n",
    "    if grid == [0,0]:\n",
    "        return 1\n",
    "    n = 0\n",
    "    if grid[0] > 0:\n",
    "        n += num_ways([grid[0]-1,grid[1]])\n",
    "    if grid[1] > 0:\n",
    "        #grid[1] = grid[1] - 1\n",
    "        n += num_ways([grid[0],grid[1]-1])\n",
    "    return(n)  "
   ]
  },
  {
   "cell_type": "code",
   "execution_count": 8,
   "metadata": {},
   "outputs": [
    {
     "data": {
      "text/plain": [
       "6"
      ]
     },
     "execution_count": 8,
     "metadata": {},
     "output_type": "execute_result"
    }
   ],
   "source": [
    "grid = [2,2]\n",
    "num_ways(grid)"
   ]
  },
  {
   "cell_type": "code",
   "execution_count": null,
   "metadata": {},
   "outputs": [],
   "source": [
    "# However, when it is 20 by 20 grid, recursive way takes forever to have the result. "
   ]
  },
  {
   "cell_type": "code",
   "execution_count": null,
   "metadata": {},
   "outputs": [],
   "source": [
    "# dynamic programming way"
   ]
  },
  {
   "cell_type": "code",
   "execution_count": 9,
   "metadata": {},
   "outputs": [],
   "source": [
    "def latticePath(n): # size of the lattice\n",
    "    import numpy as np\n",
    "    grid = [n,n]\n",
    "    ways = np.zeros((n+1,n+1))\n",
    "    ways[0,1] = 1\n",
    "    ways[1,0] = 1\n",
    "    def num_ways(grid):\n",
    "        if grid == [0,1] or grid == [1,0]:\n",
    "            return (1)\n",
    "        if grid[1] >= 1:\n",
    "            if ways[grid[0],grid[1]-1] == 0:\n",
    "                ways[grid[0],grid[1]-1] = num_ways([grid[0],grid[1]-1])\n",
    "        if grid[0] >= 1:\n",
    "            if ways[grid[0]-1,grid[1]] == 0:\n",
    "                ways[grid[0]-1,grid[1]] = num_ways([grid[0]-1,grid[1]])\n",
    "        total = ways[grid[0],grid[1]-1] + ways[grid[0]-1,grid[1]]\n",
    "        return (total)\n",
    "    return(num_ways(grid))"
   ]
  },
  {
   "cell_type": "code",
   "execution_count": 10,
   "metadata": {},
   "outputs": [
    {
     "name": "stdout",
     "output_type": "stream",
     "text": [
      "137846528820.0\n",
      "time used: 0.00500035285949707\n"
     ]
    }
   ],
   "source": [
    "import time\n",
    "start = time.time()\n",
    "print(latticePath(20))\n",
    "print(\"time used:\", time.time()-start)"
   ]
  }
 ],
 "metadata": {
  "kernelspec": {
   "display_name": "Python 3",
   "language": "python",
   "name": "python3"
  },
  "language_info": {
   "codemirror_mode": {
    "name": "ipython",
    "version": 3
   },
   "file_extension": ".py",
   "mimetype": "text/x-python",
   "name": "python",
   "nbconvert_exporter": "python",
   "pygments_lexer": "ipython3",
   "version": "3.6.4"
  }
 },
 "nbformat": 4,
 "nbformat_minor": 2
}
