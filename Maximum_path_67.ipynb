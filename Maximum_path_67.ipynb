{
 "cells": [
  {
   "cell_type": "code",
   "execution_count": null,
   "metadata": {},
   "outputs": [],
   "source": [
    "Maximum path sum II   Problem 67\n",
    "\n",
    "\n",
    "By starting at the top of the triangle below and moving to adjacent numbers on the row below, the maximum total from top to bottom is 23.\n",
    "\n",
    "3\n",
    "7 4\n",
    "2 4 6\n",
    "8 5 9 3\n",
    "\n",
    "That is, 3 + 7 + 4 + 9 = 23.\n",
    "Find the maximum total from top to bottom in triangle.txt (right click and 'Save Link/Target As...'), a 15K text file containing a triangle with one-hundred rows.\n",
    "NOTE: This is a much more difficult version of Problem 18. It is not possible to try every route to solve this problem, as there are 299 altogether! If you could check one trillion (1012) routes every second it would take over twenty billion years to check them all. There is an efficient algorithm to solve it. ;o)"
   ]
  },
  {
   "cell_type": "code",
   "execution_count": 11,
   "metadata": {},
   "outputs": [],
   "source": [
    "# read data\n",
    "import win32clipboard\n",
    "import numpy as np\n",
    "win32clipboard.OpenClipboard()\n",
    "data = win32clipboard.GetClipboardData()\n",
    "win32clipboard.CloseClipboard()\n",
    "newdata = data.replace(\"\\r\\n\",\" \")\n",
    "mydata = []\n",
    "for i in range(0,15149,3):\n",
    "    mydata.append(int(newdata[i:(i+2)]))"
   ]
  },
  {
   "cell_type": "code",
   "execution_count": 12,
   "metadata": {},
   "outputs": [],
   "source": [
    "import numpy as np\n",
    "def maxPath(num, n): # num contains all numbers and n is the number of layers\n",
    "    if n == 1:\n",
    "        return num\n",
    "    length = len(num)\n",
    "    new = np.array(mxtw(num[-n:])) + np.array(num[(length-2*n+1):(length-n)])\n",
    "    if n > 2:\n",
    "        new = maxPath(num[0:(length-2*n+1)]+list(new) , n-1)\n",
    "    return(new)"
   ]
  },
  {
   "cell_type": "code",
   "execution_count": 13,
   "metadata": {},
   "outputs": [],
   "source": [
    "def mxtw(numbs):\n",
    "    n = len(numbs)\n",
    "    a = []\n",
    "    for i in range(n-1):\n",
    "        a.append(max(numbs[i:(i+2)]))\n",
    "    return (a)"
   ]
  },
  {
   "cell_type": "code",
   "execution_count": 15,
   "metadata": {},
   "outputs": [
    {
     "data": {
      "text/plain": [
       "array([7273])"
      ]
     },
     "execution_count": 15,
     "metadata": {},
     "output_type": "execute_result"
    }
   ],
   "source": [
    "num = mydata\n",
    "n = 100\n",
    "maxPath(num,n)"
   ]
  }
 ],
 "metadata": {
  "kernelspec": {
   "display_name": "Python 3",
   "language": "python",
   "name": "python3"
  },
  "language_info": {
   "codemirror_mode": {
    "name": "ipython",
    "version": 3
   },
   "file_extension": ".py",
   "mimetype": "text/x-python",
   "name": "python",
   "nbconvert_exporter": "python",
   "pygments_lexer": "ipython3",
   "version": "3.6.4"
  }
 },
 "nbformat": 4,
 "nbformat_minor": 2
}
