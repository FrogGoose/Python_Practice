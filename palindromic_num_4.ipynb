{
 "cells": [
  {
   "cell_type": "code",
   "execution_count": null,
   "metadata": {},
   "outputs": [],
   "source": [
    "Largest palindrome product  Problem 4 \n",
    "\n",
    "A palindromic number reads the same both ways. The largest palindrome made from the product of two 2-digit numbers is 9009 = 91 × 99.\n",
    "Find the largest palindrome made from the product of two 3-digit numbers."
   ]
  },
  {
   "cell_type": "code",
   "execution_count": 73,
   "metadata": {},
   "outputs": [],
   "source": [
    "import numpy as np\n",
    "def palindromic_num(num):\n",
    "    b = str(num)\n",
    "    tem = []\n",
    "    tem2 = []\n",
    "    for i in range(1, len(b)+1):\n",
    "        tem1 = int(b[i-1])\n",
    "        tem.append(tem1)\n",
    "        tem2.append(tem1)\n",
    "    tem.reverse()\n",
    "    a1 = np.array(tem)\n",
    "    a2 = np.array(tem2)\n",
    "    if all(a1 == a2):\n",
    "        #print(num,\"is a palindromic number\")\n",
    "        return(num)\n",
    "    else:\n",
    "        #print(num,\"is a not palindromic number\")\n",
    "        return(0)"
   ]
  },
  {
   "cell_type": "code",
   "execution_count": 74,
   "metadata": {},
   "outputs": [
    {
     "data": {
      "text/plain": [
       "141"
      ]
     },
     "execution_count": 74,
     "metadata": {},
     "output_type": "execute_result"
    }
   ],
   "source": [
    "num=141\n",
    "palindromic_num(num)"
   ]
  },
  {
   "cell_type": "code",
   "execution_count": 75,
   "metadata": {},
   "outputs": [
    {
     "data": {
      "text/plain": [
       "906609"
      ]
     },
     "execution_count": 75,
     "metadata": {},
     "output_type": "execute_result"
    }
   ],
   "source": [
    "pn = []\n",
    "for i in range(999,99,-1):\n",
    "    t = 0\n",
    "    for j in range(i-1,99,-1):\n",
    "        temp = i * j\n",
    "        if palindromic_num(temp) != 0:\n",
    "            two_digits = [i,j]\n",
    "            #print(two_digits)\n",
    "            pn.append(temp)\n",
    "max(pn)\n"
   ]
  }
 ],
 "metadata": {
  "kernelspec": {
   "display_name": "Python 3",
   "language": "python",
   "name": "python3"
  },
  "language_info": {
   "codemirror_mode": {
    "name": "ipython",
    "version": 3
   },
   "file_extension": ".py",
   "mimetype": "text/x-python",
   "name": "python",
   "nbconvert_exporter": "python",
   "pygments_lexer": "ipython3",
   "version": "3.6.4"
  }
 },
 "nbformat": 4,
 "nbformat_minor": 2
}
