{
 "cells": [
  {
   "cell_type": "code",
   "execution_count": null,
   "metadata": {},
   "outputs": [],
   "source": [
    "Smallest multiple Problem 5 \n",
    "\n",
    "2520 is the smallest number that can be divided by each of the numbers from 1 to 10 without any remainder.\n",
    "What is the smallest positive number that is evenly divisible by all of the numbers from 1 to 20?"
   ]
  },
  {
   "cell_type": "code",
   "execution_count": 71,
   "metadata": {},
   "outputs": [],
   "source": [
    "import math\n",
    "import numpy as np\n",
    "def all_divisors(num):\n",
    "    afs = []\n",
    "    if num == 1:\n",
    "        return (1)  \n",
    "    elif math.sqrt(num) == int(math.sqrt(num)):\n",
    "        for i in range(1,int(math.sqrt(num))+1):\n",
    "            if num % i == 0:\n",
    "                afs.append(i)\n",
    "                afs.append(num//i)\n",
    "        del afs[-1]\n",
    "    else:\n",
    "        for i in range(1,int(math.sqrt(num))+1):\n",
    "            if num % i == 0:\n",
    "                afs.append(i)\n",
    "                afs.append(num//i)\n",
    "    #del afs[1]\n",
    "    afs.sort()\n",
    "    return(afs)"
   ]
  },
  {
   "cell_type": "code",
   "execution_count": 100,
   "metadata": {},
   "outputs": [],
   "source": [
    "def smallestmultiple(num):\n",
    "    start = 1\n",
    "    for i in range(2, num+1):\n",
    "        tem = all_divisors(i)\n",
    "        if start % i == 0:\n",
    "            start = start\n",
    "        elif start in tem:\n",
    "            start = i\n",
    "        elif len(tem) == 2:\n",
    "            start = start * tem[1]\n",
    "        else:\n",
    "            tem2 = all_divisors(start)\n",
    "            tem3 = list(set(tem).intersection(set(tem2)))\n",
    "            tem3.sort()\n",
    "            start = start * tem3[1]\n",
    "    return(start)"
   ]
  },
  {
   "cell_type": "code",
   "execution_count": 101,
   "metadata": {},
   "outputs": [
    {
     "name": "stdout",
     "output_type": "stream",
     "text": [
      "2\n",
      "6\n",
      "12\n",
      "60\n",
      "60\n",
      "420\n",
      "840\n",
      "2520\n",
      "2520\n",
      "27720\n",
      "27720\n",
      "360360\n",
      "360360\n",
      "360360\n",
      "720720\n",
      "12252240\n",
      "12252240\n",
      "232792560\n",
      "232792560\n"
     ]
    }
   ],
   "source": [
    "for i in range(2,20+1):\n",
    "    print(smallestmultiple(i))"
   ]
  },
  {
   "cell_type": "code",
   "execution_count": null,
   "metadata": {},
   "outputs": [],
   "source": []
  }
 ],
 "metadata": {
  "kernelspec": {
   "display_name": "Python 3",
   "language": "python",
   "name": "python3"
  },
  "language_info": {
   "codemirror_mode": {
    "name": "ipython",
    "version": 3
   },
   "file_extension": ".py",
   "mimetype": "text/x-python",
   "name": "python",
   "nbconvert_exporter": "python",
   "pygments_lexer": "ipython3",
   "version": "3.6.4"
  }
 },
 "nbformat": 4,
 "nbformat_minor": 2
}
