{
 "cells": [
  {
   "cell_type": "code",
   "execution_count": null,
   "metadata": {},
   "outputs": [],
   "source": [
    "Non-abundant sums   Problem 23\n",
    "\n",
    "A perfect number is a number for which the sum of its proper divisors is exactly equal to the number. For example, the sum of the proper divisors of 28 would be 1 + 2 + 4 + 7 + 14 = 28, which means that 28 is a perfect number.\n",
    "A number n is called deficient if the sum of its proper divisors is less than n and it is called abundant if this sum exceeds n.\n",
    "As 12 is the smallest abundant number, 1 + 2 + 3 + 4 + 6 = 16, the smallest number that can be written as the sum of two abundant numbers is 24. By mathematical analysis, it can be shown that all integers greater than 28123 can be written as the sum of two abundant numbers. However, this upper limit cannot be reduced any further by analysis even though it is known that the greatest number that cannot be expressed as the sum of two abundant numbers is less than this limit.\n",
    "Find the sum of all the positive integers which cannot be written as the sum of two abundant numbers."
   ]
  },
  {
   "cell_type": "code",
   "execution_count": 52,
   "metadata": {},
   "outputs": [],
   "source": [
    "def proper_divisors(num): #find sum of all proper divisors of num\n",
    "    afs = []\n",
    "    if num == 1:\n",
    "        return (0)  \n",
    "    elif num**0.5 == int(num**0.5):\n",
    "        for i in range(1,int(num**0.5)+1):\n",
    "            if num % i == 0:\n",
    "                afs.append(i)\n",
    "                afs.append(num//i)\n",
    "        del afs[-1]\n",
    "    else:\n",
    "        for i in range(1,int(num**0.5)+1):\n",
    "            if num % i == 0:\n",
    "                afs.append(i)\n",
    "                afs.append(num//i)\n",
    "    del afs[1]\n",
    "    total = sum(afs)\n",
    "    \n",
    "    #afs.sort()\n",
    "    #print(afs)\n",
    "    \n",
    "    return(total)"
   ]
  },
  {
   "cell_type": "code",
   "execution_count": 53,
   "metadata": {},
   "outputs": [],
   "source": [
    "def isAbundant(num): # if num is an Abundant number or not\n",
    "    if proper_divisors(num) > num:\n",
    "        return (True)\n",
    "    else:\n",
    "        return (False)"
   ]
  },
  {
   "cell_type": "code",
   "execution_count": 54,
   "metadata": {},
   "outputs": [],
   "source": [
    "def allAbu(num): # find all abundant numbers below num\n",
    "    a = []\n",
    "    for i in range(1,num):\n",
    "        if isAbundant(i):\n",
    "            a.append(i)\n",
    "    return(a)"
   ]
  },
  {
   "cell_type": "code",
   "execution_count": 55,
   "metadata": {},
   "outputs": [],
   "source": [
    "def allSums(a): # list all sums of any two elements in a\n",
    "    b = []\n",
    "    length = len(a)\n",
    "    for i in range(length):\n",
    "        for j in range(i,length):\n",
    "            b.append(a[i]+a[j])\n",
    "    return(b)"
   ]
  },
  {
   "cell_type": "code",
   "execution_count": 56,
   "metadata": {},
   "outputs": [],
   "source": [
    "def sumsNonAbu(num): # find the sum of all the positive integers which is below num and also cannot be written as the sum of two abundant numbers\n",
    "    Abu = allAbu(num)\n",
    "    twoAbuSums = allSums(Abu)\n",
    "    #totalAbu = list(set(Abu).union(twoAbuSums))\n",
    "    NonAbu = list(set(list(range(1,num))) - set(twoAbuSums))\n",
    "    sumNonAb = sum(NonAbu)\n",
    "    return(sumNonAb)"
   ]
  },
  {
   "cell_type": "code",
   "execution_count": 57,
   "metadata": {},
   "outputs": [
    {
     "name": "stdout",
     "output_type": "stream",
     "text": [
      "4179871\n",
      "time used: 7.701193332672119\n"
     ]
    }
   ],
   "source": [
    "import time\n",
    "start = time.time()\n",
    "print(sumsNonAbu(28124))\n",
    "print(\"time used:\", time.time()-start)"
   ]
  }
 ],
 "metadata": {
  "kernelspec": {
   "display_name": "Python 3",
   "language": "python",
   "name": "python3"
  },
  "language_info": {
   "codemirror_mode": {
    "name": "ipython",
    "version": 3
   },
   "file_extension": ".py",
   "mimetype": "text/x-python",
   "name": "python",
   "nbconvert_exporter": "python",
   "pygments_lexer": "ipython3",
   "version": "3.6.4"
  }
 },
 "nbformat": 4,
 "nbformat_minor": 2
}
