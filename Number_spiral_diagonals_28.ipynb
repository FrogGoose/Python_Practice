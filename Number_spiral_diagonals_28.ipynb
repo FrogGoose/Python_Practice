{
 "cells": [
  {
   "cell_type": "code",
   "execution_count": null,
   "metadata": {},
   "outputs": [],
   "source": [
    "Number spiral diagonals  Problem 28 \n",
    "\n",
    "\n",
    "Starting with the number 1 and moving to the right in a clockwise direction a 5 by 5 spiral is formed as follows:\n",
    "\n",
    "21 22 23 24 25\n",
    "20  7  8  9 10\n",
    "19  6  1  2 11\n",
    "18  5  4  3 12\n",
    "17 16 15 14 13\n",
    "\n",
    "It can be verified that the sum of the numbers on the diagonals is 101.\n",
    "\n",
    "What is the sum of the numbers on the diagonals in a 1001 by 1001 spiral formed in the same way?"
   ]
  },
  {
   "cell_type": "code",
   "execution_count": null,
   "metadata": {},
   "outputs": [],
   "source": [
    "# the first layer has i on the diagnoal, the second layer has 3, 5, 7, 9 on the diagnoal, and the third layer has 13, 17, 21 25\n",
    "# on the diagnoal. So the pattern is: Start with 1, plus 2 get the first diagnoal element in second layer, then this number plus \n",
    "# 2 produce the second, plus 2 with the second produce the forth. Note except the first layer, all other layers have 4 diagnoal \n",
    "# elements. \n",
    "layer             num in edge                 diagnoal           pattern num\n",
    "  1                   1                           1                   2\n",
    "  2                   3                       3, 5, 7, 9              4  \n",
    "  3                   5                       13,17,21,25             6\n",
    "  4                   7                       31,37,43,49             8\n",
    ".....               ......                    ..........."
   ]
  },
  {
   "cell_type": "code",
   "execution_count": 3,
   "metadata": {},
   "outputs": [
    {
     "name": "stdout",
     "output_type": "stream",
     "text": [
      "[1, 3, 5, 7, 9, 13, 17, 21, 25]\n",
      "101\n"
     ]
    }
   ],
   "source": [
    "a = [1]\n",
    "t = 0\n",
    "for i in range(2,5,2): #note the second parameter means a 5 * 5  spiral \n",
    "    a.append(a[t]+i)\n",
    "    a.append(a[t+1]+i)\n",
    "    a.append(a[t+2]+i)\n",
    "    a.append(a[t+3]+i)\n",
    "    t += 4\n",
    "print(a)\n",
    "print(sum(a))"
   ]
  },
  {
   "cell_type": "code",
   "execution_count": 4,
   "metadata": {},
   "outputs": [
    {
     "name": "stdout",
     "output_type": "stream",
     "text": [
      "669171001\n",
      "time used: 0.0\n"
     ]
    }
   ],
   "source": [
    "import time\n",
    "start = time.time()\n",
    "a = [1]\n",
    "t = 0\n",
    "for i in range(2,1001,2): #note the second parameter means a 5 * 5  spiral \n",
    "    a.append(a[t]+i)\n",
    "    a.append(a[t+1]+i)\n",
    "    a.append(a[t+2]+i)\n",
    "    a.append(a[t+3]+i)\n",
    "    t += 4\n",
    "print(sum(a))\n",
    "print(\"time used:\", time.time()-start)"
   ]
  }
 ],
 "metadata": {
  "kernelspec": {
   "display_name": "Python 3",
   "language": "python",
   "name": "python3"
  },
  "language_info": {
   "codemirror_mode": {
    "name": "ipython",
    "version": 3
   },
   "file_extension": ".py",
   "mimetype": "text/x-python",
   "name": "python",
   "nbconvert_exporter": "python",
   "pygments_lexer": "ipython3",
   "version": "3.6.4"
  }
 },
 "nbformat": 4,
 "nbformat_minor": 2
}
