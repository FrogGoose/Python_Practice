{
 "cells": [
  {
   "cell_type": "code",
   "execution_count": null,
   "metadata": {},
   "outputs": [],
   "source": [
    "Amicable numbers  Problem 21 \n",
    "\n",
    "Let d(n) be defined as the sum of proper divisors of n (numbers less than n which divide evenly into n).\n",
    "If d(a) = b and d(b) = a, where a ≠ b, then a and b are an amicable pair and each of a and b are called amicable numbers.\n",
    "For example, the proper divisors of 220 are 1, 2, 4, 5, 10, 11, 20, 22, 44, 55 and 110; therefore d(220) = 284. The proper divisors of 284 are 1, 2, 4, 71 and 142; so d(284) = 220.\n",
    "Evaluate the sum of all the amicable numbers under 10000."
   ]
  },
  {
   "cell_type": "code",
   "execution_count": 150,
   "metadata": {},
   "outputs": [],
   "source": [
    "def proper_divisors(num):\n",
    "    afs = []\n",
    "    if num == 1:\n",
    "        return (0)  \n",
    "    elif math.sqrt(num) == int(num**0.5):\n",
    "        for i in range(1,int(num**0.5)+1):\n",
    "            if num % i == 0:\n",
    "                afs.append(i)\n",
    "                afs.append(num/i)\n",
    "        del afs[-1]\n",
    "    else:\n",
    "        for i in range(1,int(num**0.5)+1):\n",
    "            if num % i == 0:\n",
    "                afs.append(i)\n",
    "                afs.append(num/i)\n",
    "    del afs[1]\n",
    "    total = sum(afs)\n",
    "    \n",
    "    #afs.sort()\n",
    "    #print(afs)\n",
    "    \n",
    "    return(total)"
   ]
  },
  {
   "cell_type": "code",
   "execution_count": 151,
   "metadata": {},
   "outputs": [
    {
     "data": {
      "text/plain": [
       "31626"
      ]
     },
     "execution_count": 151,
     "metadata": {},
     "output_type": "execute_result"
    }
   ],
   "source": [
    "Ami_num = []\n",
    "for i in range(2, 10000):\n",
    "    tem1 = proper_divisors(i)\n",
    "    b = tem1\n",
    "    if proper_divisors(tem1) == i and b != i:\n",
    "        Ami_num.append(i)\n",
    "sum(Ami_num)"
   ]
  }
 ],
 "metadata": {
  "kernelspec": {
   "display_name": "Python 3",
   "language": "python",
   "name": "python3"
  },
  "language_info": {
   "codemirror_mode": {
    "name": "ipython",
    "version": 3
   },
   "file_extension": ".py",
   "mimetype": "text/x-python",
   "name": "python",
   "nbconvert_exporter": "python",
   "pygments_lexer": "ipython3",
   "version": "3.6.4"
  }
 },
 "nbformat": 4,
 "nbformat_minor": 2
}
