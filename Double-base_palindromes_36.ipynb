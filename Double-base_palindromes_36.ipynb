{
 "cells": [
  {
   "cell_type": "code",
   "execution_count": null,
   "metadata": {},
   "outputs": [],
   "source": [
    "Double-base palindromes   Problem 36\n",
    "\n",
    "The decimal number, 585 = 10010010012 (binary), is palindromic in both bases.\n",
    "Find the sum of all numbers, less than one million, which are palindromic in base 10 and base 2.\n",
    "(Please note that the palindromic number, in either base, may not include leading zeros.)"
   ]
  },
  {
   "cell_type": "code",
   "execution_count": 48,
   "metadata": {},
   "outputs": [],
   "source": [
    "import numpy as np\n",
    "def palindromic_num(num):\n",
    "    b = str(num)\n",
    "    tem = []\n",
    "    tem2 = []\n",
    "    for i in range(1, len(b)+1):\n",
    "        tem1 = int(b[i-1])\n",
    "        tem.append(tem1)\n",
    "        tem2.append(tem1)\n",
    "    tem.reverse()\n",
    "    a1 = np.array(tem)\n",
    "    a2 = np.array(tem2)\n",
    "    if all(a1 == a2):\n",
    "        #print(num,\"is a palindromic number\")\n",
    "        return(num)\n",
    "    else:\n",
    "        #print(num,\"is a not palindromic number\")\n",
    "        return(0)"
   ]
  },
  {
   "cell_type": "code",
   "execution_count": 49,
   "metadata": {},
   "outputs": [],
   "source": [
    "def b10_to_b2(num):\n",
    "    def base10_to_base2(num):\n",
    "        remainder = []\n",
    "        if num % 2 == 0:\n",
    "            remainder.append(0)\n",
    "        else:\n",
    "            remainder.append(1)\n",
    "        t = num // 2\n",
    "        if t != 0:\n",
    "            remainder.append(base10_to_base2(t))\n",
    "        return(remainder)\n",
    "    a = base10_to_base2(num)\n",
    "    b = str(a)\n",
    "    c = b.replace(\"[\",\"\")\n",
    "    d = c.replace(\"]\",\"\")\n",
    "    k = d.replace(\", \",\"\")\n",
    "    return (k)"
   ]
  },
  {
   "cell_type": "code",
   "execution_count": 52,
   "metadata": {},
   "outputs": [],
   "source": [
    "def palin_sum(num):\n",
    "    total = 0\n",
    "    i = 1\n",
    "    while i < num:\n",
    "        if palindromic_num(i) != 0:\n",
    "            tem = b10_to_b2(i)\n",
    "            if palindromic_num(tem) != 0:\n",
    "                total += i\n",
    "                #print(i)\n",
    "        i += 1\n",
    "    return(total)"
   ]
  },
  {
   "cell_type": "code",
   "execution_count": 53,
   "metadata": {},
   "outputs": [
    {
     "data": {
      "text/plain": [
       "872187"
      ]
     },
     "execution_count": 53,
     "metadata": {},
     "output_type": "execute_result"
    }
   ],
   "source": [
    "palin_sum(1000000)"
   ]
  }
 ],
 "metadata": {
  "kernelspec": {
   "display_name": "Python 3",
   "language": "python",
   "name": "python3"
  },
  "language_info": {
   "codemirror_mode": {
    "name": "ipython",
    "version": 3
   },
   "file_extension": ".py",
   "mimetype": "text/x-python",
   "name": "python",
   "nbconvert_exporter": "python",
   "pygments_lexer": "ipython3",
   "version": "3.6.4"
  }
 },
 "nbformat": 4,
 "nbformat_minor": 2
}
